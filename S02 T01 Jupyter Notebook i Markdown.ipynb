{
 "cells": [
  {
   "cell_type": "markdown",
   "id": "42d330a3",
   "metadata": {
    "toc": true
   },
   "source": [
    "<h1>Table of Contents<span class=\"tocSkip\"></span></h1>\n",
    "<div class=\"toc\"><ul class=\"toc-item\"><li><span><a href=\"#Primera-Capçalera-MarkDown-Test\" data-toc-modified-id=\"Primera-Capçalera-MarkDown-Test-1\"><span class=\"toc-item-num\">1&nbsp;&nbsp;</span>Primera Capçalera MarkDown Test</a></span><ul class=\"toc-item\"><li><span><a href=\"#Segon-titol\" data-toc-modified-id=\"Segon-titol-1.1\"><span class=\"toc-item-num\">1.1&nbsp;&nbsp;</span>Segon titol</a></span><ul class=\"toc-item\"><li><span><a href=\"#Tercer-Titol\" data-toc-modified-id=\"Tercer-Titol-1.1.1\"><span class=\"toc-item-num\">1.1.1&nbsp;&nbsp;</span>Tercer Titol</a></span><ul class=\"toc-item\"><li><span><a href=\"#Imatge\" data-toc-modified-id=\"Imatge-1.1.1.1\"><span class=\"toc-item-num\">1.1.1.1&nbsp;&nbsp;</span>Imatge</a></span></li></ul></li></ul></li><li><span><a href=\"#Com-canviar-el-directori-d'accés-del-Júpiter-notebook\" data-toc-modified-id=\"Com-canviar-el-directori-d'accés-del-Júpiter-notebook-1.2\"><span class=\"toc-item-num\">1.2&nbsp;&nbsp;</span>Com canviar el directori d'accés del Júpiter notebook</a></span></li></ul></li><li><span><a href=\"#Primers-codis-amb-Python\" data-toc-modified-id=\"Primers-codis-amb-Python-2\"><span class=\"toc-item-num\">2&nbsp;&nbsp;</span>Primers codis amb <em>Python</em></a></span><ul class=\"toc-item\"><li><span><a href=\"#Pràctica-P01\" data-toc-modified-id=\"Pràctica-P01-2.1\"><span class=\"toc-item-num\">2.1&nbsp;&nbsp;</span>Pràctica P01</a></span></li><li><span><a href=\"#Pràctica-P02\" data-toc-modified-id=\"Pràctica-P02-2.2\"><span class=\"toc-item-num\">2.2&nbsp;&nbsp;</span>Pràctica P02</a></span></li><li><span><a href=\"#Pràctica-P03\" data-toc-modified-id=\"Pràctica-P03-2.3\"><span class=\"toc-item-num\">2.3&nbsp;&nbsp;</span>Pràctica P03</a></span></li><li><span><a href=\"#Pràctica-P04\" data-toc-modified-id=\"Pràctica-P04-2.4\"><span class=\"toc-item-num\">2.4&nbsp;&nbsp;</span>Pràctica P04</a></span></li><li><span><a href=\"#Pràctica-P05\" data-toc-modified-id=\"Pràctica-P05-2.5\"><span class=\"toc-item-num\">2.5&nbsp;&nbsp;</span>Pràctica P05</a></span></li><li><span><a href=\"#Pràctica-P05-Slicing\" data-toc-modified-id=\"Pràctica-P05-Slicing-2.6\"><span class=\"toc-item-num\">2.6&nbsp;&nbsp;</span>Pràctica P05 Slicing</a></span></li><li><span><a href=\"#Pràctica-P06-Booleans\" data-toc-modified-id=\"Pràctica-P06-Booleans-2.7\"><span class=\"toc-item-num\">2.7&nbsp;&nbsp;</span>Pràctica P06 Booleans</a></span></li></ul></li><li><span><a href=\"#The-end\" data-toc-modified-id=\"The-end-3\"><span class=\"toc-item-num\">3&nbsp;&nbsp;</span>The end</a></span></li></ul></div>"
   ]
  },
  {
   "cell_type": "markdown",
   "id": "2c749191",
   "metadata": {},
   "source": [
    "# Primera Capçalera MarkDown Test\n",
    "\n",
    "## Segon titol\n",
    "### Tercer Titol\n"
   ]
  },
  {
   "cell_type": "markdown",
   "id": "dcf3c5f2",
   "metadata": {},
   "source": [
    "#### Imatge"
   ]
  },
  {
   "cell_type": "markdown",
   "id": "d82cccf1",
   "metadata": {},
   "source": [
    "![Logo](https://www.mailjet.com/wp-content/uploads/2019/11/big-data-use-cases.png)"
   ]
  },
  {
   "cell_type": "markdown",
   "id": "017657bc",
   "metadata": {},
   "source": [
    "```python\n",
    "s= \"Syntax highlighting for Python\"\n",
    "print (x)\n",
    "```"
   ]
  },
  {
   "cell_type": "markdown",
   "id": "a9830e07",
   "metadata": {},
   "source": [
    "* item 1\n",
    "* item 2\n",
    "* item 3\n",
    "    * sub-item 1\n",
    "    * sub-item 2"
   ]
  },
  {
   "cell_type": "markdown",
   "id": "0dc5243b",
   "metadata": {},
   "source": [
    "## Com canviar el directori d'accés del Júpiter notebook\n",
    "\n",
    "Abre el programa \"Anaconda prompt\"\n",
    "Ejecuta el siguiente comando:\n",
    "jupyter notebook --generate-config\n",
    "\n",
    "Ubicacio del fitxer jupyter_notebook_config.py\n",
    "C:\\Users\\formacio\\.jupyter\n",
    "\n",
    "La ejecución de dicho comando habrá generado el fichero de configuración en\n",
    "\n",
    "C:\\Users\\username\\.jupyter\\jupyter_notebook_config.py\n",
    "\n",
    "(donde username será el nombre de tu usuario)\n",
    "\n",
    "Edita dicho fichero\n",
    "Busca la línea\n",
    "#c.NotebookApp.notebook_dir = ''\n",
    "\n",
    "Elimina el símbolo # del comienzo\n",
    "Añade entre las comillas del final la carpeta de inicio que desees\n",
    "Guarda el fichero\n",
    "Por ejemplo, si quieres que tu carpeta de inicio sea c:\\, la mencionada línea deberá quedar de la siguiente manera:\n",
    "\n",
    "c.NotebookApp.notebook_dir = 'c:/'\n",
    "\n",
    "\n"
   ]
  },
  {
   "cell_type": "markdown",
   "id": "347b5b87",
   "metadata": {},
   "source": [
    "# Primers codis amb *Python*"
   ]
  },
  {
   "cell_type": "code",
   "execution_count": 16,
   "id": "993f78c0",
   "metadata": {},
   "outputs": [
    {
     "name": "stdout",
     "output_type": "stream",
     "text": [
      "Hello, World!\n"
     ]
    }
   ],
   "source": [
    "print(\"Hello, World!\")"
   ]
  },
  {
   "cell_type": "code",
   "execution_count": 17,
   "id": "6b8d0173",
   "metadata": {},
   "outputs": [
    {
     "name": "stdout",
     "output_type": "stream",
     "text": [
      "Five is greater than two!\n",
      "Five is greater than two!\n"
     ]
    }
   ],
   "source": [
    "if 5 > 2:\n",
    " print(\"Five is greater than two!\") \n",
    "if 5 > 2:\n",
    "        print(\"Five is greater than two!\") "
   ]
  },
  {
   "cell_type": "code",
   "execution_count": 1,
   "id": "b9cf3b51",
   "metadata": {},
   "outputs": [
    {
     "name": "stdout",
     "output_type": "stream",
     "text": [
      "5 Hello, World!\n"
     ]
    }
   ],
   "source": [
    "x = 5\n",
    "y = \"Hello, World!\"\n",
    "print (x , y)\n"
   ]
  },
  {
   "cell_type": "code",
   "execution_count": 3,
   "id": "709ce32f",
   "metadata": {},
   "outputs": [
    {
     "data": {
      "text/plain": [
       "10"
      ]
     },
     "execution_count": 3,
     "metadata": {},
     "output_type": "execute_result"
    }
   ],
   "source": [
    "5+5"
   ]
  },
  {
   "cell_type": "code",
   "execution_count": 16,
   "id": "b0cb3868",
   "metadata": {},
   "outputs": [
    {
     "name": "stdout",
     "output_type": "stream",
     "text": [
      "La suma de  14  i  6.6  es:  20.6\n",
      "La resta de  14  i  6.6  es:  7.4\n",
      "La divisio de  14  i  6.6  es:  2.121212121212121\n",
      "La divisio de  14  i  6.6  amb 3 decimals es:  2.121\n",
      "La divisio amb cocient sencer 14  i  6.6  es:  2.0\n",
      "El modul de la divisio de:  14  i  6.6  es:  0.8000000000000007\n",
      "El resultat de:  14  elevat a  6.6  es:  36681326.74356168\n"
     ]
    }
   ],
   "source": [
    "n1 = 14\n",
    "n2 = 6.6\n",
    "print (\"La suma de \", n1 , \" i \", n2 , \" es: \", (n1 + n2))\n",
    "print (\"La resta de \", n1 , \" i \", n2 , \" es: \", (n1 - n2))\n",
    "print (\"La divisio de \", n1 , \" i \", n2 , \" es: \", (n1 / n2))\n",
    "print (\"La divisio de \", n1 , \" i \", n2 , \" amb 3 decimals es: \", (round((n1 / n2),3)))\n",
    "print (\"La divisio amb cocient sencer\", n1 , \" i \", n2 , \" es: \", (n1 // n2))\n",
    "print (\"El modul de la divisio de: \", n1 , \" i \", n2 , \" es: \", (n1 % n2))\n",
    "print (\"El resultat de: \", n1 , \" elevat a \", n2 , \" es: \", (n1**n2))"
   ]
  },
  {
   "cell_type": "code",
   "execution_count": 1,
   "id": "0cbdb4cd",
   "metadata": {
    "ExecuteTime": {
     "end_time": "2021-09-10T14:05:43.237348Z",
     "start_time": "2021-09-10T14:05:43.233348Z"
    }
   },
   "outputs": [],
   "source": [
    "a = 1\n",
    "b = [2,3,5,8]\n",
    "c = \"Es un string\""
   ]
  },
  {
   "cell_type": "markdown",
   "id": "efa4bddd",
   "metadata": {},
   "source": [
    "## Pràctica P01"
   ]
  },
  {
   "cell_type": "code",
   "execution_count": null,
   "id": "6045b0e4",
   "metadata": {},
   "outputs": [],
   "source": [
    "print (\"a\", -3**4,\"b\", (-3)**4, \"resposta: b\")\n",
    "print (\"a\", -5+7**4,\"b\", (-5+7)**4, \"resposta: a\")\n",
    "print (\"a\", 27*10 % 100,\"b\", 27*10 / 100, \"resposta: a\")\n",
    "print (\"a\", round(67435 * (-0.03 / 0.7),2), \\\n",
    "\"b\", 67435* round(-0.03 / 0.7,2), \"resposta: b\")"
   ]
  },
  {
   "cell_type": "markdown",
   "id": "7b6fbaf3",
   "metadata": {
    "ExecuteTime": {
     "end_time": "2021-09-10T15:14:02.479529Z",
     "start_time": "2021-09-10T15:14:02.476529Z"
    }
   },
   "source": [
    "## Pràctica P02"
   ]
  },
  {
   "cell_type": "code",
   "execution_count": null,
   "id": "d0ba422d",
   "metadata": {},
   "outputs": [],
   "source": [
    "print(abs(-8.7))\n",
    "print(round(5.76543, 2))\n",
    "print(divmod(8, 3))\n",
    "print (max(12, -12.3, 18.9, -9.8))\n",
    "print (min(12, -12.3, 18.9, -9.8))"
   ]
  },
  {
   "cell_type": "markdown",
   "id": "848dc342",
   "metadata": {},
   "source": [
    "## Pràctica P03"
   ]
  },
  {
   "cell_type": "code",
   "execution_count": null,
   "id": "ff2fa2ef",
   "metadata": {},
   "outputs": [],
   "source": [
    "import statistics as stats\n",
    "\n",
    "n1 = float(input (\"Dona´m un primer numero: \"))\n",
    "n2 = float(input (\"Dona´m un segon numero: \"))\n",
    "n3 = float(input (\"Dona´m un tercer numero: \"))\n",
    "n4 = float(input (\"Dona´m un quart numero: \"))\n",
    "\n",
    "numeros = [n1,n2,n3,n4]\n",
    "\n",
    "suma = abs(n1)+abs(n2)+abs(n3)+abs(n4)\n",
    "mitja = (n1+n2+n3+n4)/4\n",
    "\n",
    "print(\"El numero max es: \", max(n1,n2,n3,n4))\n",
    "print(\"La mitja arrodonida a 3 decimals es: \", stats.mean(numeros))\n",
    "print(\"La mitja arrodonida a 3 decimals es: \", round(mitja,3))\n",
    "print(\"La suma arrodonoda a 3 decimals es: \", round(suma,3))   "
   ]
  },
  {
   "cell_type": "markdown",
   "id": "570aabe4",
   "metadata": {},
   "source": [
    "## Pràctica P04"
   ]
  },
  {
   "cell_type": "code",
   "execution_count": null,
   "id": "ad7d4edd",
   "metadata": {},
   "outputs": [],
   "source": [
    "import math\n",
    "\n",
    "g1 = math.radians(45)\n",
    "g2 = math.radians(73)\n",
    "g3\n",
    "print(\"El coseno de 45g es: \", round(math.cos(g1),3))\n",
    "print(\"El seno de 45g es: \", round(math.sin(g1),3))\n",
    "print(\"El seno de 45g es: \", round(math.tan(g1),3))\n",
    "print(\"El coseno de 73g es: \", round(math.cos(g2),3))\n",
    "print(\"El seno de 73g es: \", round(math.sin(g2),3))\n",
    "print(\"El seno de 73g es: \", round(math.tan(g2),3))"
   ]
  },
  {
   "cell_type": "markdown",
   "id": "06e58703",
   "metadata": {
    "ExecuteTime": {
     "end_time": "2021-09-10T15:15:57.500858Z",
     "start_time": "2021-09-10T15:15:57.496857Z"
    }
   },
   "source": [
    "## Pràctica P05"
   ]
  },
  {
   "cell_type": "code",
   "execution_count": 5,
   "id": "263a7813",
   "metadata": {
    "ExecuteTime": {
     "end_time": "2021-09-10T15:17:33.035478Z",
     "start_time": "2021-09-10T15:17:33.026478Z"
    }
   },
   "outputs": [
    {
     "name": "stdout",
     "output_type": "stream",
     "text": [
      "El valor random de la llista de frites es:  Pera\n",
      "15.03\n",
      "152\n"
     ]
    }
   ],
   "source": [
    "import random\n",
    "fruites= [\"platan\", \"Pera\", \"Poma\", \"Taronja\", \"Sindria\"]\n",
    "print (\"El valor random de la llista de frites es: \", random.choice(fruites))\n",
    "\n",
    "#Trobar un numero amb decimals entre 12.3 i 25.2\n",
    "import random\n",
    "print (round((random.uniform(12.3,25.2)),3))\n",
    "\n",
    "#Trobar un numero entre 75 i 275\n",
    "import random\n",
    "print(random.randrange(75,275,1))\n"
   ]
  },
  {
   "cell_type": "markdown",
   "id": "28746e6e",
   "metadata": {},
   "source": [
    "## Pràctica P05 Slicing"
   ]
  },
  {
   "cell_type": "code",
   "execution_count": 6,
   "id": "76d4fc17",
   "metadata": {
    "ExecuteTime": {
     "end_time": "2021-09-10T15:20:00.442545Z",
     "start_time": "2021-09-10T15:20:00.436544Z"
    }
   },
   "outputs": [
    {
     "name": "stdout",
     "output_type": "stream",
     "text": [
      "OSC\n",
      "MOSCA\n",
      "TELL\n",
      "S\n",
      "MOSCATELL\n",
      "LLETACSOM\n"
     ]
    }
   ],
   "source": [
    "text = \"MOSCATELL\"\n",
    "print (text[1:4])\n",
    "print (text[:5])\n",
    "print (text[-4:])\n",
    "print (text[2])\n",
    "print (text[:])\n",
    "print (text[::-1])"
   ]
  },
  {
   "cell_type": "markdown",
   "id": "aac1ccab",
   "metadata": {},
   "source": [
    "## Pràctica P06 Booleans"
   ]
  },
  {
   "cell_type": "code",
   "execution_count": 3,
   "id": "e37e19dd",
   "metadata": {
    "ExecuteTime": {
     "end_time": "2021-09-10T17:25:32.010042Z",
     "start_time": "2021-09-10T17:25:32.001042Z"
    }
   },
   "outputs": [
    {
     "name": "stdout",
     "output_type": "stream",
     "text": [
      "True\n",
      "False\n",
      "False\n",
      "True\n",
      "True\n",
      "True\n"
     ]
    }
   ],
   "source": [
    "print(10 > 9)\n",
    "print(10 == 9)\n",
    "print(10 < 9)\n",
    "print(bool(\"abc\"))\n",
    "print(bool(123))\n",
    "print(bool([\"apple\", \"cherry\", \"banana\"]))"
   ]
  },
  {
   "cell_type": "markdown",
   "id": "57976d77",
   "metadata": {},
   "source": [
    "# The end"
   ]
  },
  {
   "cell_type": "markdown",
   "id": "961f1f3f",
   "metadata": {},
   "source": [
    "![logo](https://upload.wikimedia.org/wikipedia/commons/thumb/e/ea/Thats_all_folks.svg/795px-Thats_all_folks.svg.png)"
   ]
  },
  {
   "cell_type": "code",
   "execution_count": null,
   "id": "0ff71404",
   "metadata": {},
   "outputs": [],
   "source": []
  }
 ],
 "metadata": {
  "kernelspec": {
   "display_name": "Python 3 (ipykernel)",
   "language": "python",
   "name": "python3"
  },
  "language_info": {
   "codemirror_mode": {
    "name": "ipython",
    "version": 3
   },
   "file_extension": ".py",
   "mimetype": "text/x-python",
   "name": "python",
   "nbconvert_exporter": "python",
   "pygments_lexer": "ipython3",
   "version": "3.8.10"
  },
  "toc": {
   "base_numbering": 1,
   "nav_menu": {
    "height": "175px",
    "width": "450px"
   },
   "number_sections": true,
   "sideBar": true,
   "skip_h1_title": false,
   "title_cell": "Table of Contents",
   "title_sidebar": "Contents",
   "toc_cell": true,
   "toc_position": {
    "height": "calc(100% - 180px)",
    "left": "10px",
    "top": "150px",
    "width": "307.2px"
   },
   "toc_section_display": true,
   "toc_window_display": false
  },
  "varInspector": {
   "cols": {
    "lenName": 16,
    "lenType": 16,
    "lenVar": 40
   },
   "kernels_config": {
    "python": {
     "delete_cmd_postfix": "",
     "delete_cmd_prefix": "del ",
     "library": "var_list.py",
     "varRefreshCmd": "print(var_dic_list())"
    },
    "r": {
     "delete_cmd_postfix": ") ",
     "delete_cmd_prefix": "rm(",
     "library": "var_list.r",
     "varRefreshCmd": "cat(var_dic_list()) "
    }
   },
   "oldHeight": 192.4,
   "position": {
    "height": "40px",
    "left": "947px",
    "right": "20px",
    "top": "39px",
    "width": "250px"
   },
   "types_to_exclude": [
    "module",
    "function",
    "builtin_function_or_method",
    "instance",
    "_Feature"
   ],
   "varInspector_section_display": "none",
   "window_display": false
  }
 },
 "nbformat": 4,
 "nbformat_minor": 5
}
